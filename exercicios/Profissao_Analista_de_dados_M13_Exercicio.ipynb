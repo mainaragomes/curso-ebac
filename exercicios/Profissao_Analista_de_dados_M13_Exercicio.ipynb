{
  "nbformat": 4,
  "nbformat_minor": 0,
  "metadata": {
    "colab": {
      "provenance": []
    },
    "kernelspec": {
      "name": "python3",
      "display_name": "Python 3"
    }
  },
  "cells": [
    {
      "cell_type": "markdown",
      "metadata": {
        "id": "KJqp9AANOCtf"
      },
      "source": [
        "<img src=\"https://raw.githubusercontent.com/andre-marcos-perez/ebac-course-utils/main/media/logo/newebac_logo_black_half.png\" alt=\"ebac-logo\">\n",
        "\n",
        "---\n",
        "\n",
        "# **Módulo** | Análise de Dados: Data Wrangling II\n",
        "Caderno de **Exercícios**<br>\n",
        "Professor [André Perez](https://www.linkedin.com/in/andremarcosperez/)\n",
        "\n",
        "---"
      ]
    },
    {
      "cell_type": "markdown",
      "metadata": {
        "id": "d9jDtUbDOE1-"
      },
      "source": [
        "# **Tópicos**\n",
        "\n",
        "<ol type=\"1\">\n",
        "  <li>Agregação e Ordenação;</li>\n",
        "  <li>Combinação;</li>\n",
        "  <li>Técnicas Avançadas.</li>\n",
        "</ol>"
      ]
    },
    {
      "cell_type": "markdown",
      "metadata": {
        "id": "SmoHgt-lwkpD"
      },
      "source": [
        "---"
      ]
    },
    {
      "cell_type": "markdown",
      "metadata": {
        "id": "GABI6OW8OfQ2"
      },
      "source": [
        "# **Exercícios**"
      ]
    },
    {
      "cell_type": "markdown",
      "metadata": {
        "id": "45DbYPgFhuR7"
      },
      "source": [
        "Neste exercícios, vamos trabalhar com dados geográficos, demográficos e econômicos do Brasil. Vamos manipular e combinar dados de duas frentes distintas para poder responder perguntas de negócios."
      ]
    },
    {
      "cell_type": "markdown",
      "metadata": {
        "id": "GWgNoJN8DHyY"
      },
      "source": [
        "## 1\\. Data Wrangling"
      ]
    },
    {
      "cell_type": "markdown",
      "metadata": {
        "id": "E30KnCdKRdYl"
      },
      "source": [
        "### **1.1. Estados**"
      ]
    },
    {
      "cell_type": "markdown",
      "metadata": {
        "id": "w2q1apyNYHbu"
      },
      "source": [
        "O arquivo `estados-bruto.xml` contém informações sobre estados (nome, sigla e região). **Carregue-o na máquina virtual do Google Colab**. Um arquivo do tipo XML é similar a um arquivo do tipo HTML, exemplo do estado do Acre:"
      ]
    },
    {
      "cell_type": "markdown",
      "metadata": {
        "id": "GzjE2aEyYW5A"
      },
      "source": [
        "```xml\n",
        "<ESTADO>\n",
        "  <ID>1</ID>\n",
        "  <NOME>ACRE</NOME>\n",
        "  <IDCAPITAL>16</IDCAPITAL>\n",
        "  <SIGLA>AC</SIGLA>\n",
        "  <REGIAO>NORTE</REGIAO>\n",
        "</ESTADO>\n",
        "```"
      ]
    },
    {
      "cell_type": "markdown",
      "metadata": {
        "id": "7Mtk7Dd9UHqg"
      },
      "source": [
        "Utilize o pacote Python `beautifulsoup4` para extrair os dados do arquivo `estados-bruto.xml` providenciado. Salve os dados extraidos no arquivo `estados-limpo.csv` separado por `;`. Exemplo das três primeiras linhas mais o cabeçalho:\n",
        "\n",
        "```\n",
        "estado;sigla;regiao\n",
        "ACRE;AC;NORTE\n",
        "ALAGOAS;AL;NORDESTE\n",
        "AMAPA;AP;NORTE\n",
        "```\n",
        "\n",
        "**Dica**: Utilize o parser de xml chamado `lxml` do `beautifulsoup4`."
      ]
    },
    {
      "cell_type": "code",
      "metadata": {
        "id": "kz0ZyYI0Sg6P",
        "colab": {
          "base_uri": "https://localhost:8080/"
        },
        "outputId": "46892570-f14d-4303-e9e0-d4848a1bada7"
      },
      "source": [
        "# ler o arquivo estados-bruto.xml, utilize o xml parser chamado lxml\n",
        "\n",
        "import pandas as pd\n",
        "from bs4 import BeautifulSoup\n",
        "\n",
        "NOME_ARQUIVO_XML = 'estados-bruto.xml'\n",
        "\n",
        "with open(NOME_ARQUIVO_XML, 'r', encoding='utf-8') as file:\n",
        "    conteudo = file.read()\n",
        "\n",
        "fonte = BeautifulSoup(conteudo, 'lxml')\n",
        "print(fonte)"
      ],
      "execution_count": 4,
      "outputs": [
        {
          "output_type": "stream",
          "name": "stdout",
          "text": [
            "<?xml version=\"1.0\" encoding=\"utf-8\" ?><html><body><estados>\n",
            "<estado>\n",
            "<id>1</id>\n",
            "<nome>ACRE</nome>\n",
            "<idcapital>16</idcapital>\n",
            "<sigla>AC</sigla>\n",
            "<regiao>NORTE</regiao>\n",
            "</estado>\n",
            "<estado>\n",
            "<id>2</id>\n",
            "<nome>ALAGOAS</nome>\n",
            "<idcapital>68</idcapital>\n",
            "<sigla>AL</sigla>\n",
            "<regiao>NORDESTE</regiao>\n",
            "</estado>\n",
            "<estado>\n",
            "<id>3</id>\n",
            "<nome>AMAPA</nome>\n",
            "<idcapital>131</idcapital>\n",
            "<sigla>AP</sigla>\n",
            "<regiao>NORTE</regiao>\n",
            "</estado>\n",
            "<estado>\n",
            "<id>4</id>\n",
            "<nome>AMAZONAS</nome>\n",
            "<idcapital>178</idcapital>\n",
            "<sigla>AM</sigla>\n",
            "<regiao>NORTE</regiao>\n",
            "</estado>\n",
            "<estado>\n",
            "<id>5</id>\n",
            "<nome>BAHIA</nome>\n",
            "<idcapital>536</idcapital>\n",
            "<sigla>BA</sigla>\n",
            "<regiao>NORDESTE</regiao>\n",
            "</estado>\n",
            "<estado>\n",
            "<id>6</id>\n",
            "<nome>CEARA</nome>\n",
            "<idcapital>676</idcapital>\n",
            "<sigla>CE</sigla>\n",
            "<regiao>NORDESTE</regiao>\n",
            "</estado>\n",
            "<estado>\n",
            "<id>7</id>\n",
            "<nome>DISTRITO FEDERAL</nome>\n",
            "<idcapital>916</idcapital>\n",
            "<sigla>DF</sigla>\n",
            "<regiao>CENTRO-OESTE</regiao>\n",
            "</estado>\n",
            "<estado>\n",
            "<id>8</id>\n",
            "<nome>ESPIRITO SANTO</nome>\n",
            "<idcapital>879</idcapital>\n",
            "<sigla>ES</sigla>\n",
            "<regiao>SUDESTE</regiao>\n",
            "</estado>\n",
            "<estado>\n",
            "<id>9</id>\n",
            "<nome>GOIAS</nome>\n",
            "<idcapital>973</idcapital>\n",
            "<sigla>GO</sigla>\n",
            "<regiao>CENTRO-OESTE</regiao>\n",
            "</estado>\n",
            "<estado>\n",
            "<id>10</id>\n",
            "<nome>MARANHAO</nome>\n",
            "<idcapital>1309</idcapital>\n",
            "<sigla>MA</sigla>\n",
            "<regiao>NORDESTE</regiao>\n",
            "</estado>\n",
            "<estado>\n",
            "<id>11</id>\n",
            "<nome>MATO GROSSO</nome>\n",
            "<idcapital>1374</idcapital>\n",
            "<sigla>MT</sigla>\n",
            "<regiao>CENTRO-OESTE</regiao>\n",
            "</estado>\n",
            "<estado>\n",
            "<id>12</id>\n",
            "<nome>MATO GROSSO DO SUL</nome>\n",
            "<idcapital>1485</idcapital>\n",
            "<sigla>MS</sigla>\n",
            "<regiao>CENTRO-OESTE</regiao>\n",
            "</estado>\n",
            "<estado>\n",
            "<id>13</id>\n",
            "<nome>PARA</nome>\n",
            "<idcapital>1561</idcapital>\n",
            "<sigla>PA</sigla>\n",
            "<regiao>NORTE</regiao>\n",
            "</estado>\n",
            "<estado>\n",
            "<id>14</id>\n",
            "<nome>PARAIBA</nome>\n",
            "<idcapital>1779</idcapital>\n",
            "<sigla>PB</sigla>\n",
            "<regiao>NORDESTE</regiao>\n",
            "</estado>\n",
            "<estado>\n",
            "<id>15</id>\n",
            "<nome>PARANA</nome>\n",
            "<idcapital>2002</idcapital>\n",
            "<sigla>PR</sigla>\n",
            "<regiao>SUL</regiao>\n",
            "</estado>\n",
            "<estado>\n",
            "<id>16</id>\n",
            "<nome>PERNAMBUCO</nome>\n",
            "<idcapital>2439</idcapital>\n",
            "<sigla>PE</sigla>\n",
            "<regiao>NORDESTE</regiao>\n",
            "</estado>\n",
            "<estado>\n",
            "<id>17</id>\n",
            "<nome>PIAUI</nome>\n",
            "<idcapital>2704</idcapital>\n",
            "<sigla>PI</sigla>\n",
            "<regiao>NORDESTE</regiao>\n",
            "</estado>\n",
            "<estado>\n",
            "<id>18</id>\n",
            "<nome>RIO DE JANEIRO</nome>\n",
            "<idcapital>2779</idcapital>\n",
            "<sigla>RJ</sigla>\n",
            "<regiao>SUDESTE</regiao>\n",
            "</estado>\n",
            "<estado>\n",
            "<id>19</id>\n",
            "<nome>RIO GRANDE DO NORTE</nome>\n",
            "<idcapital>2890</idcapital>\n",
            "<sigla>RN</sigla>\n",
            "<regiao>NORDESTE</regiao>\n",
            "</estado>\n",
            "<estado>\n",
            "<id>20</id>\n",
            "<nome>RIO GRANDE DO SUL</nome>\n",
            "<idcapital>3273</idcapital>\n",
            "<sigla>RS</sigla>\n",
            "<regiao>SUL</regiao>\n",
            "</estado>\n",
            "<estado>\n",
            "<id>21</id>\n",
            "<nome>RONDONIA</nome>\n",
            "<idcapital>3473</idcapital>\n",
            "<sigla>RO</sigla>\n",
            "<regiao>NORTE</regiao>\n",
            "</estado>\n",
            "<estado>\n",
            "<id>22</id>\n",
            "<nome>RORAIMA</nome>\n",
            "<idcapital>3491</idcapital>\n",
            "<sigla>RR</sigla>\n",
            "<regiao>NORTE</regiao>\n",
            "</estado>\n",
            "<estado>\n",
            "<id>23</id>\n",
            "<nome>SANTA CATARINA</nome>\n",
            "<idcapital>3591</idcapital>\n",
            "<sigla>SC</sigla>\n",
            "<regiao>SUL</regiao>\n",
            "</estado>\n",
            "<estado>\n",
            "<id>24</id>\n",
            "<nome>SAO PAULO</nome>\n",
            "<idcapital>4361</idcapital>\n",
            "<sigla>SP</sigla>\n",
            "<regiao>SUDESTE</regiao>\n",
            "</estado>\n",
            "<estado>\n",
            "<id>25</id>\n",
            "<nome>SERGIPE</nome>\n",
            "<idcapital>4444</idcapital>\n",
            "<sigla>SE</sigla>\n",
            "<regiao>NORDESTE</regiao>\n",
            "</estado>\n",
            "<estado>\n",
            "<id>26</id>\n",
            "<nome>TOCANTINS</nome>\n",
            "<idcapital>4606</idcapital>\n",
            "<sigla>TO</sigla>\n",
            "<regiao>NORTE</regiao>\n",
            "</estado>\n",
            "<estado>\n",
            "<id>27</id>\n",
            "<nome>MINAS GERAIS</nome>\n",
            "<idcapital>4790</idcapital>\n",
            "<sigla>MG</sigla>\n",
            "<regiao>SUDESTE</regiao>\n",
            "</estado>\n",
            "</estados>\n",
            "</body></html>\n"
          ]
        },
        {
          "output_type": "stream",
          "name": "stderr",
          "text": [
            "<ipython-input-4-f40397916b79>:11: XMLParsedAsHTMLWarning: It looks like you're parsing an XML document using an HTML parser. If this really is an HTML document (maybe it's XHTML?), you can ignore or filter this warning. If it's XML, you should know that using an XML parser will be more reliable. To parse this document as XML, make sure you have the lxml package installed, and pass the keyword argument `features=\"xml\"` into the BeautifulSoup constructor.\n",
            "  fonte = BeautifulSoup(conteudo, 'lxml')\n"
          ]
        }
      ]
    },
    {
      "cell_type": "code",
      "metadata": {
        "id": "6mos3LTVXrzV",
        "colab": {
          "base_uri": "https://localhost:8080/"
        },
        "outputId": "e1268446-f2fc-4148-f3e3-76b026550a1d"
      },
      "source": [
        "#criando as variáveis\n",
        "estados = []\n",
        "siglas = []\n",
        "regioes = []\n",
        "\n",
        "#utilizando a repetição for\n",
        "for estado in fonte.find_all('estado'):\n",
        "    estados.append(estado.find('nome').text.strip()) #Encontra a tag <nome> dentro do elemento <estado>, extrai o texto, e remove espaços em branco no início e no final usando strip().\n",
        "    siglas.append(estado.find('sigla').text.strip())\n",
        "    regioes.append(estado.find('regiao').text.strip())\n",
        "\n",
        "#criação do DataFrame\n",
        "estados_df = pd.DataFrame({\n",
        "    'estado': estados,\n",
        "    'sigla': siglas,\n",
        "    'regiao': regioes\n",
        "})\n",
        "\n",
        "\n",
        "print(estados_df.head())"
      ],
      "execution_count": 5,
      "outputs": [
        {
          "output_type": "stream",
          "name": "stdout",
          "text": [
            "     estado sigla    regiao\n",
            "0      ACRE    AC     NORTE\n",
            "1   ALAGOAS    AL  NORDESTE\n",
            "2     AMAPA    AP     NORTE\n",
            "3  AMAZONAS    AM     NORTE\n",
            "4     BAHIA    BA  NORDESTE\n"
          ]
        }
      ]
    },
    {
      "cell_type": "code",
      "metadata": {
        "id": "9yCma_LASxFg"
      },
      "source": [
        "# escrever o conteudo extraido no arquivo estados-limpo.csv separados por ;\n",
        "\n",
        "NOME_ARQUIVO_DESTINO = 'estados-limpo.csv'\n",
        "\n",
        "estados_df.to_csv(NOME_ARQUIVO_DESTINO, sep=';', index=False)"
      ],
      "execution_count": 6,
      "outputs": []
    },
    {
      "cell_type": "markdown",
      "metadata": {
        "id": "Fq0xqYYSYq92"
      },
      "source": [
        "### **1.2. Cidades**"
      ]
    },
    {
      "cell_type": "markdown",
      "metadata": {
        "id": "eWRbjhOQYq93"
      },
      "source": [
        "O arquivo `cidades-bruto.csv` contém informações demográficas e socioeconomicas das cidades do Brasil. **Carregue-o na máquina virtual do Google Colab**. Utilize o pacote Python `pandas` para extrair os dados do arquivo `cidades-bruto.xml` providenciado. Seguindo as seguintes especificações:"
      ]
    },
    {
      "cell_type": "markdown",
      "metadata": {
        "id": "76zW8sMsbhEu"
      },
      "source": [
        "1. Apenas dados do censo de 2010;\n",
        "1. Apenas as colunas UF, Nome, PIB, Pop_est_2009 e PIB_percapita."
      ]
    },
    {
      "cell_type": "markdown",
      "metadata": {
        "id": "auiIxlw-blp8"
      },
      "source": [
        "Salve os dados extraidos no arquivo `cidades-limpo.csv` separado por `;`. Exemplo das três primeiras linhas mais o cabeçalho:\n",
        "\n",
        "```\n",
        "estado;cidade;populacao;pib;pib_percapita\n",
        "BAHIA;TREMEDAL;18433;57883.9921875;3140.23999023\n",
        "RIO GRANDE DO SUL;TURUÇU;4000;45723875;11430.96972656\n",
        "ESPIRITO SANTO;VITÓRIA;320156;19782628;61790.58984375\n",
        "```"
      ]
    },
    {
      "cell_type": "code",
      "metadata": {
        "id": "nBmWOkvzYq94",
        "colab": {
          "base_uri": "https://localhost:8080/"
        },
        "outputId": "ef760214-3b72-445e-bc1d-e40140b94f42"
      },
      "source": [
        "# ler o arquivo cidades-bruto.csv\n",
        "\n",
        "import pandas as pd\n",
        "\n",
        "NOME_ARQUIVO_FONTE = 'cidades-bruto.csv'\n",
        "\n",
        "fonte_df = pd.read_csv(NOME_ARQUIVO_FONTE, sep=',')\n",
        "print(fonte_df)"
      ],
      "execution_count": 8,
      "outputs": [
        {
          "output_type": "stream",
          "name": "stdout",
          "text": [
            "                                                  FID   gid  \\\n",
            "0     vw_pib_percapita.fid-4514e25a_17aaa325034_-258f   215   \n",
            "1     vw_pib_percapita.fid-4514e25a_17aaa325034_-258e   306   \n",
            "2     vw_pib_percapita.fid-4514e25a_17aaa325034_-258d   900   \n",
            "3     vw_pib_percapita.fid-4514e25a_17aaa325034_-258c  3613   \n",
            "4     vw_pib_percapita.fid-4514e25a_17aaa325034_-258b  1028   \n",
            "...                                               ...   ...   \n",
            "5561   vw_pib_percapita.fid-4514e25a_17aaa325034_-eba  5254   \n",
            "5562   vw_pib_percapita.fid-4514e25a_17aaa325034_-eb9  2749   \n",
            "5563   vw_pib_percapita.fid-4514e25a_17aaa325034_-eb8  3779   \n",
            "5564   vw_pib_percapita.fid-4514e25a_17aaa325034_-eb7   617   \n",
            "5565   vw_pib_percapita.fid-4514e25a_17aaa325034_-eb6   672   \n",
            "\n",
            "                     UF              nome   Censo           PIB  Pop_est_2009  \\\n",
            "0                 BAHIA          Tremedal  2010.0  5.788399e+04         18433   \n",
            "1     RIO GRANDE DO SUL            Turuçu  2010.0  4.572388e+04          4000   \n",
            "2        ESPIRITO SANTO           Vitória  2010.0  1.978263e+07        320156   \n",
            "3          MINAS GERAIS         Jacutinga  2010.0  2.478160e+05         21424   \n",
            "4                 PIAUÍ           Nazária  2010.0  2.095138e+04          7895   \n",
            "...                 ...               ...     ...           ...           ...   \n",
            "5561     SANTA CATARINA         Campo Erê  2010.0  1.876289e+05          9737   \n",
            "5562             PARANÁ          Planalto  2010.0  1.385535e+05         13983   \n",
            "5563          SÃO PAULO        Guararapes  2010.0  5.320191e+05         29639   \n",
            "5564  RIO GRANDE DO SUL  Barra do Guarita  2010.0  2.198064e+04          3067   \n",
            "5565  RIO GRANDE DO SUL        Machadinho  2010.0  5.715017e+04          5623   \n",
            "\n",
            "      PIB_percapita                         Descrição               legenda  \\\n",
            "0       3140.239990  Produto Interno Bruto per capita             - 9639.65   \n",
            "1      11430.969727  Produto Interno Bruto per capita    9639.65 - 22144.80   \n",
            "2      61790.589844  Produto Interno Bruto per capita  52702.10 - 133669.00   \n",
            "3      11567.209961  Produto Interno Bruto per capita    9639.65 - 22144.80   \n",
            "4       2653.750000  Produto Interno Bruto per capita             - 9639.65   \n",
            "...             ...                               ...                   ...   \n",
            "5561   19269.679688  Produto Interno Bruto per capita    9639.65 - 22144.80   \n",
            "5562    9908.709961  Produto Interno Bruto per capita    9639.65 - 22144.80   \n",
            "5563   17949.970703  Produto Interno Bruto per capita    9639.65 - 22144.80   \n",
            "5564    7166.819824  Produto Interno Bruto per capita             - 9639.65   \n",
            "5565   10163.639648  Produto Interno Bruto per capita    9639.65 - 22144.80   \n",
            "\n",
            "      classe                                               geom  \n",
            "0          1  MULTIPOLYGON (((-41.458803305191566 -14.781415...  \n",
            "1          2  MULTIPOLYGON (((-52.035349932081274 -31.567509...  \n",
            "2          4  MULTIPOLYGON (((-40.3292566978242 -20.23997417...  \n",
            "3          2  MULTIPOLYGON (((-46.50528160015326 -22.3400120...  \n",
            "4          1  POLYGON ((-42.826685407155495 -5.3480291684437...  \n",
            "...      ...                                                ...  \n",
            "5561       2  MULTIPOLYGON (((-53.024131281087385 -26.361357...  \n",
            "5562       2  MULTIPOLYGON (((-53.61882711231503 -25.6460599...  \n",
            "5563       2  MULTIPOLYGON (((-50.70271677275949 -21.0257124...  \n",
            "5564       1  MULTIPOLYGON (((-53.778785810369236 -27.152703...  \n",
            "5565       2  MULTIPOLYGON (((-51.63183373195086 -27.4885374...  \n",
            "\n",
            "[5566 rows x 12 columns]\n"
          ]
        }
      ]
    },
    {
      "cell_type": "code",
      "metadata": {
        "id": "BRVLwHxHYq96"
      },
      "source": [
        "#criando as listas para armazenar os dados\n",
        "estado = []\n",
        "cidades = []\n",
        "populacao = []\n",
        "pib = []\n",
        "pib_percapita = []\n",
        "\n",
        "#utilizando o for para extrair os dados\n",
        "for index, linha in fonte_df.iterrows(): #fonte_df.iterrows(): Método do Pandas que retorna um iterador gerando pares (índice, linha) para cada linha do DataFrame. index é o índice da linha, e linha é uma Série Pandas representando a linha.\n",
        "    estado.append(str(linha['UF']))\n",
        "    cidades.append(str(linha['nome']))\n",
        "\n",
        "    try:\n",
        "        populacao.append(int(linha['Pop_est_2009']))\n",
        "    except ValueError:\n",
        "        populacao.append(None)\n",
        "\n",
        "    try:\n",
        "        pib.append(float(linha['PIB']))\n",
        "    except ValueError:\n",
        "        pib.append(None)\n",
        "\n",
        "    try:\n",
        "        pib_percapita.append(float(linha['PIB_percapita']))\n",
        "    except ValueError:\n",
        "        pib_percapita.append(None)"
      ],
      "execution_count": 11,
      "outputs": []
    },
    {
      "cell_type": "code",
      "metadata": {
        "id": "GcAWBfwhYq96"
      },
      "source": [
        "# escrever o conteudo extraido no arquivo cidades-limpo.csv separados por ;\n",
        "NOME_ARQUIVO_DESTINO = 'cidades-limpo.csv'\n",
        "\n",
        "cidades_df = pd.DataFrame({\n",
        "    'estado': estado,\n",
        "    'cidade': cidades,\n",
        "    'populacao': populacao,\n",
        "    'pib': pib,\n",
        "    'pib_percapita': pib_percapita\n",
        "})\n",
        "\n",
        "# Salvar os dados no arquivo CSV\n",
        "cidades_df.to_csv(NOME_ARQUIVO_DESTINO, sep=';', index=False)"
      ],
      "execution_count": 12,
      "outputs": []
    },
    {
      "cell_type": "markdown",
      "metadata": {
        "id": "EBzoHVD8b_c7"
      },
      "source": [
        "### **1.3. Brasil**"
      ]
    },
    {
      "cell_type": "markdown",
      "metadata": {
        "id": "Ft6l5bDwb_c7"
      },
      "source": [
        "Utilize o pacote Python `pandas` para combinar os dados do arquivo `estados-limpo.csv` com os dados do arquivo `cidades-limpo.csv` em um único dataframe. Escolha a coluna e o método de combinação de tal forma que **não haja perda de dados** no processo (não produzirá valores nulos `NaN`). Salve os dados do dataframe no arquivo `brasil.csv`"
      ]
    },
    {
      "cell_type": "code",
      "metadata": {
        "id": "Vz3J7G4-dBXa"
      },
      "source": [
        "#colocando os dataframes que foram criados\n",
        "estados_df = pd.read_csv('estados-limpo.csv', delimiter=';')\n",
        "cidades_df = pd.read_csv('cidades-limpo.csv', delimiter=';')\n",
        "\n",
        "# combinando os dataframes\n",
        "df_combined = pd.concat([estados_df, cidades_df], ignore_index=True)\n",
        "\n",
        "#instruindo que o data frame combinado criará o arquivo brasil.csv\n",
        "df_combined.to_csv('brasil.csv', index=False)\n",
        "\n",
        "#renomeando as colunas dos dataframes para ficar com nome igual e puxar as infos.\n",
        "estados_df = estados_df.rename(columns = {'nome':'estado'})\n",
        "\n",
        "cidades_df = cidades_df.rename(columns = {'UF':'estado'})\n",
        "\n",
        "#criando o dicionário para renomear os estados, tirando os acentos.\n",
        "estados = {\n",
        "    'RIO GRANDE DO SUL': 'RIO GRANDE DO SUL',\n",
        "    'ESPIRITO SANTO': 'ESPIRITO SANTO',\n",
        "    'MINAS GERAIS': 'MINAS GERAIS',\n",
        "    'PIAUÍ': 'PIAUI',\n",
        "    'GOIÁS': 'GOIAS',\n",
        "    'PERNAMBUCO': 'PERNAMBUCO',\n",
        "    'PARÁ': 'PARA',\n",
        "    'SERGIPE': 'SERGIPE',\n",
        "    'SÃO PAULO': 'SAO PAULO',\n",
        "    'PARAÍBA': 'PARAIBA',\n",
        "    'TOCANTINS': 'TOCANTINS',\n",
        "    'AMAZONAS': 'AMAPA',\n",
        "    'SANTA CATARINA': 'SANTA CATARINA',\n",
        "    'CEARÁ': 'CEARA',\n",
        "    'RORAIMA': 'RORAIMA',\n",
        "    'MARANHÃO': 'MARANHAO',\n",
        "    'RIO DE JANEIRO': 'RIO DE JANEIRO',\n",
        "    'MATO GROSSO': 'MATO GROSSO',\n",
        "    'PARANÁ': 'PARANA',\n",
        "    'ALAGOAS': 'ALAGOAS',\n",
        "    'MATO GROSSO DO SUL': 'MATO GROSSO DO SUL',\n",
        "    'ACRE': 'ACRE',\n",
        "    'RIO GRANDE DO NORTE': 'RIO GRANDE DO NORTE',\n",
        "    'RONDÔNIA': 'RONDONIA',\n",
        "    'AMAPÁ': 'AMAPA',\n",
        "    'DISTRITO FEDERAL': 'DISTRITO FEDERAL'\n",
        "}\n",
        "\n",
        "cidades_df['estado'] = cidades_df['estado'].replace(estados)\n",
        "\n",
        "brasil_df = pd.merge(left=cidades_df, right=estados_df, on=\"estado\", how=\"inner\")\n",
        "\n",
        "brasil_df.to_csv('brasil.csv', sep=';', index=False)"
      ],
      "execution_count": 13,
      "outputs": []
    },
    {
      "cell_type": "markdown",
      "metadata": {
        "id": "waxn4B2UDHyl"
      },
      "source": [
        "---"
      ]
    },
    {
      "cell_type": "markdown",
      "metadata": {
        "id": "finLQoyyGVmk"
      },
      "source": [
        "## 2\\. Data Analytics"
      ]
    },
    {
      "cell_type": "markdown",
      "metadata": {
        "id": "Ab0GW19Ed1ig"
      },
      "source": [
        "### **2.1. DataFrame**"
      ]
    },
    {
      "cell_type": "markdown",
      "metadata": {
        "id": "l8jJYjeBdijt"
      },
      "source": [
        "Utilize o pacote Python `pandas` para carregar o arquivo `brasil.csv` no dataframe `brasil_df`."
      ]
    },
    {
      "cell_type": "code",
      "metadata": {
        "id": "8kFQLlqud4QL",
        "colab": {
          "base_uri": "https://localhost:8080/"
        },
        "outputId": "ba7a8c00-0b58-427a-a979-f566ad909a3b"
      },
      "source": [
        "brasil_df = pd.read_csv('brasil.csv', sep=';')\n",
        "print(brasil_df.head())"
      ],
      "execution_count": 16,
      "outputs": [
        {
          "output_type": "stream",
          "name": "stdout",
          "text": [
            "  estado                 cidade  populacao           pib  pib_percapita sigla  \\\n",
            "0  BAHIA               Tremedal      18433  57883.992188    3140.239990    BA   \n",
            "1  BAHIA               Maetinga       7884  23558.447266    2988.129883    BA   \n",
            "2  BAHIA               Ibirapuã       7893  74997.406250    9501.759766    BA   \n",
            "3  BAHIA  Governador Mangabeira      20668  92903.820312    4495.060059    BA   \n",
            "4  BAHIA                Ibititá      19410  62366.886719    3213.129883    BA   \n",
            "\n",
            "     regiao  \n",
            "0  NORDESTE  \n",
            "1  NORDESTE  \n",
            "2  NORDESTE  \n",
            "3  NORDESTE  \n",
            "4  NORDESTE  \n"
          ]
        }
      ]
    },
    {
      "cell_type": "markdown",
      "metadata": {
        "id": "ZFWvK8FXHuex"
      },
      "source": [
        "### **2.2. Analise**"
      ]
    },
    {
      "cell_type": "markdown",
      "metadata": {
        "id": "EGyz0R1dd62D"
      },
      "source": [
        "Utilize o dataframe `brasil_df` para responder as seguintes perguntas de negócio:"
      ]
    },
    {
      "cell_type": "markdown",
      "metadata": {
        "id": "lGnYVp7IeFBD"
      },
      "source": [
        " - Quais são as 10 cidades mais populosas do Brasil?"
      ]
    },
    {
      "cell_type": "code",
      "metadata": {
        "id": "KQKcD-VkeQYf",
        "colab": {
          "base_uri": "https://localhost:8080/",
          "height": 363
        },
        "outputId": "d3cdf133-449c-416d-a99e-dce1531fbce0"
      },
      "source": [
        "# código para responder a pergunta\n",
        "\n",
        "brasil_df.nlargest(10, 'populacao')[['cidade', 'populacao']]"
      ],
      "execution_count": 19,
      "outputs": [
        {
          "output_type": "execute_result",
          "data": {
            "text/plain": [
              "              cidade  populacao\n",
              "3278       São Paulo   11037593\n",
              "4528  Rio de Janeiro    6186710\n",
              "44          Salvador    2998056\n",
              "5565        Brasília    2606885\n",
              "4244       Fortaleza    2505552\n",
              "1736  Belo Horizonte    2452617\n",
              "4876        Curitiba    1851215\n",
              "3727          Manaus    1738641\n",
              "2439          Recife    1561659\n",
              "2628           Belém    1437600"
            ],
            "text/html": [
              "\n",
              "  <div id=\"df-d71b500f-314d-4a1c-bb36-cb955a71cf42\" class=\"colab-df-container\">\n",
              "    <div>\n",
              "<style scoped>\n",
              "    .dataframe tbody tr th:only-of-type {\n",
              "        vertical-align: middle;\n",
              "    }\n",
              "\n",
              "    .dataframe tbody tr th {\n",
              "        vertical-align: top;\n",
              "    }\n",
              "\n",
              "    .dataframe thead th {\n",
              "        text-align: right;\n",
              "    }\n",
              "</style>\n",
              "<table border=\"1\" class=\"dataframe\">\n",
              "  <thead>\n",
              "    <tr style=\"text-align: right;\">\n",
              "      <th></th>\n",
              "      <th>cidade</th>\n",
              "      <th>populacao</th>\n",
              "    </tr>\n",
              "  </thead>\n",
              "  <tbody>\n",
              "    <tr>\n",
              "      <th>3278</th>\n",
              "      <td>São Paulo</td>\n",
              "      <td>11037593</td>\n",
              "    </tr>\n",
              "    <tr>\n",
              "      <th>4528</th>\n",
              "      <td>Rio de Janeiro</td>\n",
              "      <td>6186710</td>\n",
              "    </tr>\n",
              "    <tr>\n",
              "      <th>44</th>\n",
              "      <td>Salvador</td>\n",
              "      <td>2998056</td>\n",
              "    </tr>\n",
              "    <tr>\n",
              "      <th>5565</th>\n",
              "      <td>Brasília</td>\n",
              "      <td>2606885</td>\n",
              "    </tr>\n",
              "    <tr>\n",
              "      <th>4244</th>\n",
              "      <td>Fortaleza</td>\n",
              "      <td>2505552</td>\n",
              "    </tr>\n",
              "    <tr>\n",
              "      <th>1736</th>\n",
              "      <td>Belo Horizonte</td>\n",
              "      <td>2452617</td>\n",
              "    </tr>\n",
              "    <tr>\n",
              "      <th>4876</th>\n",
              "      <td>Curitiba</td>\n",
              "      <td>1851215</td>\n",
              "    </tr>\n",
              "    <tr>\n",
              "      <th>3727</th>\n",
              "      <td>Manaus</td>\n",
              "      <td>1738641</td>\n",
              "    </tr>\n",
              "    <tr>\n",
              "      <th>2439</th>\n",
              "      <td>Recife</td>\n",
              "      <td>1561659</td>\n",
              "    </tr>\n",
              "    <tr>\n",
              "      <th>2628</th>\n",
              "      <td>Belém</td>\n",
              "      <td>1437600</td>\n",
              "    </tr>\n",
              "  </tbody>\n",
              "</table>\n",
              "</div>\n",
              "    <div class=\"colab-df-buttons\">\n",
              "\n",
              "  <div class=\"colab-df-container\">\n",
              "    <button class=\"colab-df-convert\" onclick=\"convertToInteractive('df-d71b500f-314d-4a1c-bb36-cb955a71cf42')\"\n",
              "            title=\"Convert this dataframe to an interactive table.\"\n",
              "            style=\"display:none;\">\n",
              "\n",
              "  <svg xmlns=\"http://www.w3.org/2000/svg\" height=\"24px\" viewBox=\"0 -960 960 960\">\n",
              "    <path d=\"M120-120v-720h720v720H120Zm60-500h600v-160H180v160Zm220 220h160v-160H400v160Zm0 220h160v-160H400v160ZM180-400h160v-160H180v160Zm440 0h160v-160H620v160ZM180-180h160v-160H180v160Zm440 0h160v-160H620v160Z\"/>\n",
              "  </svg>\n",
              "    </button>\n",
              "\n",
              "  <style>\n",
              "    .colab-df-container {\n",
              "      display:flex;\n",
              "      gap: 12px;\n",
              "    }\n",
              "\n",
              "    .colab-df-convert {\n",
              "      background-color: #E8F0FE;\n",
              "      border: none;\n",
              "      border-radius: 50%;\n",
              "      cursor: pointer;\n",
              "      display: none;\n",
              "      fill: #1967D2;\n",
              "      height: 32px;\n",
              "      padding: 0 0 0 0;\n",
              "      width: 32px;\n",
              "    }\n",
              "\n",
              "    .colab-df-convert:hover {\n",
              "      background-color: #E2EBFA;\n",
              "      box-shadow: 0px 1px 2px rgba(60, 64, 67, 0.3), 0px 1px 3px 1px rgba(60, 64, 67, 0.15);\n",
              "      fill: #174EA6;\n",
              "    }\n",
              "\n",
              "    .colab-df-buttons div {\n",
              "      margin-bottom: 4px;\n",
              "    }\n",
              "\n",
              "    [theme=dark] .colab-df-convert {\n",
              "      background-color: #3B4455;\n",
              "      fill: #D2E3FC;\n",
              "    }\n",
              "\n",
              "    [theme=dark] .colab-df-convert:hover {\n",
              "      background-color: #434B5C;\n",
              "      box-shadow: 0px 1px 3px 1px rgba(0, 0, 0, 0.15);\n",
              "      filter: drop-shadow(0px 1px 2px rgba(0, 0, 0, 0.3));\n",
              "      fill: #FFFFFF;\n",
              "    }\n",
              "  </style>\n",
              "\n",
              "    <script>\n",
              "      const buttonEl =\n",
              "        document.querySelector('#df-d71b500f-314d-4a1c-bb36-cb955a71cf42 button.colab-df-convert');\n",
              "      buttonEl.style.display =\n",
              "        google.colab.kernel.accessAllowed ? 'block' : 'none';\n",
              "\n",
              "      async function convertToInteractive(key) {\n",
              "        const element = document.querySelector('#df-d71b500f-314d-4a1c-bb36-cb955a71cf42');\n",
              "        const dataTable =\n",
              "          await google.colab.kernel.invokeFunction('convertToInteractive',\n",
              "                                                    [key], {});\n",
              "        if (!dataTable) return;\n",
              "\n",
              "        const docLinkHtml = 'Like what you see? Visit the ' +\n",
              "          '<a target=\"_blank\" href=https://colab.research.google.com/notebooks/data_table.ipynb>data table notebook</a>'\n",
              "          + ' to learn more about interactive tables.';\n",
              "        element.innerHTML = '';\n",
              "        dataTable['output_type'] = 'display_data';\n",
              "        await google.colab.output.renderOutput(dataTable, element);\n",
              "        const docLink = document.createElement('div');\n",
              "        docLink.innerHTML = docLinkHtml;\n",
              "        element.appendChild(docLink);\n",
              "      }\n",
              "    </script>\n",
              "  </div>\n",
              "\n",
              "\n",
              "<div id=\"df-d9f99a97-2500-4fe8-a76c-b893e80044a6\">\n",
              "  <button class=\"colab-df-quickchart\" onclick=\"quickchart('df-d9f99a97-2500-4fe8-a76c-b893e80044a6')\"\n",
              "            title=\"Suggest charts\"\n",
              "            style=\"display:none;\">\n",
              "\n",
              "<svg xmlns=\"http://www.w3.org/2000/svg\" height=\"24px\"viewBox=\"0 0 24 24\"\n",
              "     width=\"24px\">\n",
              "    <g>\n",
              "        <path d=\"M19 3H5c-1.1 0-2 .9-2 2v14c0 1.1.9 2 2 2h14c1.1 0 2-.9 2-2V5c0-1.1-.9-2-2-2zM9 17H7v-7h2v7zm4 0h-2V7h2v10zm4 0h-2v-4h2v4z\"/>\n",
              "    </g>\n",
              "</svg>\n",
              "  </button>\n",
              "\n",
              "<style>\n",
              "  .colab-df-quickchart {\n",
              "      --bg-color: #E8F0FE;\n",
              "      --fill-color: #1967D2;\n",
              "      --hover-bg-color: #E2EBFA;\n",
              "      --hover-fill-color: #174EA6;\n",
              "      --disabled-fill-color: #AAA;\n",
              "      --disabled-bg-color: #DDD;\n",
              "  }\n",
              "\n",
              "  [theme=dark] .colab-df-quickchart {\n",
              "      --bg-color: #3B4455;\n",
              "      --fill-color: #D2E3FC;\n",
              "      --hover-bg-color: #434B5C;\n",
              "      --hover-fill-color: #FFFFFF;\n",
              "      --disabled-bg-color: #3B4455;\n",
              "      --disabled-fill-color: #666;\n",
              "  }\n",
              "\n",
              "  .colab-df-quickchart {\n",
              "    background-color: var(--bg-color);\n",
              "    border: none;\n",
              "    border-radius: 50%;\n",
              "    cursor: pointer;\n",
              "    display: none;\n",
              "    fill: var(--fill-color);\n",
              "    height: 32px;\n",
              "    padding: 0;\n",
              "    width: 32px;\n",
              "  }\n",
              "\n",
              "  .colab-df-quickchart:hover {\n",
              "    background-color: var(--hover-bg-color);\n",
              "    box-shadow: 0 1px 2px rgba(60, 64, 67, 0.3), 0 1px 3px 1px rgba(60, 64, 67, 0.15);\n",
              "    fill: var(--button-hover-fill-color);\n",
              "  }\n",
              "\n",
              "  .colab-df-quickchart-complete:disabled,\n",
              "  .colab-df-quickchart-complete:disabled:hover {\n",
              "    background-color: var(--disabled-bg-color);\n",
              "    fill: var(--disabled-fill-color);\n",
              "    box-shadow: none;\n",
              "  }\n",
              "\n",
              "  .colab-df-spinner {\n",
              "    border: 2px solid var(--fill-color);\n",
              "    border-color: transparent;\n",
              "    border-bottom-color: var(--fill-color);\n",
              "    animation:\n",
              "      spin 1s steps(1) infinite;\n",
              "  }\n",
              "\n",
              "  @keyframes spin {\n",
              "    0% {\n",
              "      border-color: transparent;\n",
              "      border-bottom-color: var(--fill-color);\n",
              "      border-left-color: var(--fill-color);\n",
              "    }\n",
              "    20% {\n",
              "      border-color: transparent;\n",
              "      border-left-color: var(--fill-color);\n",
              "      border-top-color: var(--fill-color);\n",
              "    }\n",
              "    30% {\n",
              "      border-color: transparent;\n",
              "      border-left-color: var(--fill-color);\n",
              "      border-top-color: var(--fill-color);\n",
              "      border-right-color: var(--fill-color);\n",
              "    }\n",
              "    40% {\n",
              "      border-color: transparent;\n",
              "      border-right-color: var(--fill-color);\n",
              "      border-top-color: var(--fill-color);\n",
              "    }\n",
              "    60% {\n",
              "      border-color: transparent;\n",
              "      border-right-color: var(--fill-color);\n",
              "    }\n",
              "    80% {\n",
              "      border-color: transparent;\n",
              "      border-right-color: var(--fill-color);\n",
              "      border-bottom-color: var(--fill-color);\n",
              "    }\n",
              "    90% {\n",
              "      border-color: transparent;\n",
              "      border-bottom-color: var(--fill-color);\n",
              "    }\n",
              "  }\n",
              "</style>\n",
              "\n",
              "  <script>\n",
              "    async function quickchart(key) {\n",
              "      const quickchartButtonEl =\n",
              "        document.querySelector('#' + key + ' button');\n",
              "      quickchartButtonEl.disabled = true;  // To prevent multiple clicks.\n",
              "      quickchartButtonEl.classList.add('colab-df-spinner');\n",
              "      try {\n",
              "        const charts = await google.colab.kernel.invokeFunction(\n",
              "            'suggestCharts', [key], {});\n",
              "      } catch (error) {\n",
              "        console.error('Error during call to suggestCharts:', error);\n",
              "      }\n",
              "      quickchartButtonEl.classList.remove('colab-df-spinner');\n",
              "      quickchartButtonEl.classList.add('colab-df-quickchart-complete');\n",
              "    }\n",
              "    (() => {\n",
              "      let quickchartButtonEl =\n",
              "        document.querySelector('#df-d9f99a97-2500-4fe8-a76c-b893e80044a6 button');\n",
              "      quickchartButtonEl.style.display =\n",
              "        google.colab.kernel.accessAllowed ? 'block' : 'none';\n",
              "    })();\n",
              "  </script>\n",
              "</div>\n",
              "\n",
              "    </div>\n",
              "  </div>\n"
            ],
            "application/vnd.google.colaboratory.intrinsic+json": {
              "type": "dataframe",
              "summary": "{\n  \"name\": \"brasil_df\",\n  \"rows\": 10,\n  \"fields\": [\n    {\n      \"column\": \"cidade\",\n      \"properties\": {\n        \"dtype\": \"string\",\n        \"num_unique_values\": 10,\n        \"samples\": [\n          \"Recife\",\n          \"Rio de Janeiro\",\n          \"Belo Horizonte\"\n        ],\n        \"semantic_type\": \"\",\n        \"description\": \"\"\n      }\n    },\n    {\n      \"column\": \"populacao\",\n      \"properties\": {\n        \"dtype\": \"number\",\n        \"std\": 2999294,\n        \"min\": 1437600,\n        \"max\": 11037593,\n        \"num_unique_values\": 10,\n        \"samples\": [\n          1561659,\n          6186710,\n          2452617\n        ],\n        \"semantic_type\": \"\",\n        \"description\": \"\"\n      }\n    }\n  ]\n}"
            }
          },
          "metadata": {},
          "execution_count": 19
        }
      ]
    },
    {
      "cell_type": "markdown",
      "metadata": {
        "id": "l93St6uleWTp"
      },
      "source": [
        " - Quais são as 5 cidades com a menor PIB per capita da região nordeste?"
      ]
    },
    {
      "cell_type": "code",
      "metadata": {
        "id": "DS5akh2zeWTq",
        "colab": {
          "base_uri": "https://localhost:8080/",
          "height": 206
        },
        "outputId": "4b1255aa-bdb7-4a29-b9b5-3661f8e34c01"
      },
      "source": [
        "# código para responder a pergunta\n",
        "\n",
        "df_nordeste = (brasil_df.loc[brasil_df['regiao'] =='NORDESTE'])\n",
        "df_nordeste.nsmallest(5, ['pib_percapita'])[['cidade', 'pib_percapita']]"
      ],
      "execution_count": 20,
      "outputs": [
        {
          "output_type": "execute_result",
          "data": {
            "text/plain": [
              "                  cidade  pib_percapita\n",
              "4487  São Vicente Ferrer    1929.969971\n",
              "4382             Cajapió    2203.830078\n",
              "69               Lamarão    2327.149902\n",
              "1849       Dom Inocêncio    2358.239990\n",
              "4507            Timbiras    2368.159912"
            ],
            "text/html": [
              "\n",
              "  <div id=\"df-8c28de17-fdfe-4793-9139-ed92befe424a\" class=\"colab-df-container\">\n",
              "    <div>\n",
              "<style scoped>\n",
              "    .dataframe tbody tr th:only-of-type {\n",
              "        vertical-align: middle;\n",
              "    }\n",
              "\n",
              "    .dataframe tbody tr th {\n",
              "        vertical-align: top;\n",
              "    }\n",
              "\n",
              "    .dataframe thead th {\n",
              "        text-align: right;\n",
              "    }\n",
              "</style>\n",
              "<table border=\"1\" class=\"dataframe\">\n",
              "  <thead>\n",
              "    <tr style=\"text-align: right;\">\n",
              "      <th></th>\n",
              "      <th>cidade</th>\n",
              "      <th>pib_percapita</th>\n",
              "    </tr>\n",
              "  </thead>\n",
              "  <tbody>\n",
              "    <tr>\n",
              "      <th>4487</th>\n",
              "      <td>São Vicente Ferrer</td>\n",
              "      <td>1929.969971</td>\n",
              "    </tr>\n",
              "    <tr>\n",
              "      <th>4382</th>\n",
              "      <td>Cajapió</td>\n",
              "      <td>2203.830078</td>\n",
              "    </tr>\n",
              "    <tr>\n",
              "      <th>69</th>\n",
              "      <td>Lamarão</td>\n",
              "      <td>2327.149902</td>\n",
              "    </tr>\n",
              "    <tr>\n",
              "      <th>1849</th>\n",
              "      <td>Dom Inocêncio</td>\n",
              "      <td>2358.239990</td>\n",
              "    </tr>\n",
              "    <tr>\n",
              "      <th>4507</th>\n",
              "      <td>Timbiras</td>\n",
              "      <td>2368.159912</td>\n",
              "    </tr>\n",
              "  </tbody>\n",
              "</table>\n",
              "</div>\n",
              "    <div class=\"colab-df-buttons\">\n",
              "\n",
              "  <div class=\"colab-df-container\">\n",
              "    <button class=\"colab-df-convert\" onclick=\"convertToInteractive('df-8c28de17-fdfe-4793-9139-ed92befe424a')\"\n",
              "            title=\"Convert this dataframe to an interactive table.\"\n",
              "            style=\"display:none;\">\n",
              "\n",
              "  <svg xmlns=\"http://www.w3.org/2000/svg\" height=\"24px\" viewBox=\"0 -960 960 960\">\n",
              "    <path d=\"M120-120v-720h720v720H120Zm60-500h600v-160H180v160Zm220 220h160v-160H400v160Zm0 220h160v-160H400v160ZM180-400h160v-160H180v160Zm440 0h160v-160H620v160ZM180-180h160v-160H180v160Zm440 0h160v-160H620v160Z\"/>\n",
              "  </svg>\n",
              "    </button>\n",
              "\n",
              "  <style>\n",
              "    .colab-df-container {\n",
              "      display:flex;\n",
              "      gap: 12px;\n",
              "    }\n",
              "\n",
              "    .colab-df-convert {\n",
              "      background-color: #E8F0FE;\n",
              "      border: none;\n",
              "      border-radius: 50%;\n",
              "      cursor: pointer;\n",
              "      display: none;\n",
              "      fill: #1967D2;\n",
              "      height: 32px;\n",
              "      padding: 0 0 0 0;\n",
              "      width: 32px;\n",
              "    }\n",
              "\n",
              "    .colab-df-convert:hover {\n",
              "      background-color: #E2EBFA;\n",
              "      box-shadow: 0px 1px 2px rgba(60, 64, 67, 0.3), 0px 1px 3px 1px rgba(60, 64, 67, 0.15);\n",
              "      fill: #174EA6;\n",
              "    }\n",
              "\n",
              "    .colab-df-buttons div {\n",
              "      margin-bottom: 4px;\n",
              "    }\n",
              "\n",
              "    [theme=dark] .colab-df-convert {\n",
              "      background-color: #3B4455;\n",
              "      fill: #D2E3FC;\n",
              "    }\n",
              "\n",
              "    [theme=dark] .colab-df-convert:hover {\n",
              "      background-color: #434B5C;\n",
              "      box-shadow: 0px 1px 3px 1px rgba(0, 0, 0, 0.15);\n",
              "      filter: drop-shadow(0px 1px 2px rgba(0, 0, 0, 0.3));\n",
              "      fill: #FFFFFF;\n",
              "    }\n",
              "  </style>\n",
              "\n",
              "    <script>\n",
              "      const buttonEl =\n",
              "        document.querySelector('#df-8c28de17-fdfe-4793-9139-ed92befe424a button.colab-df-convert');\n",
              "      buttonEl.style.display =\n",
              "        google.colab.kernel.accessAllowed ? 'block' : 'none';\n",
              "\n",
              "      async function convertToInteractive(key) {\n",
              "        const element = document.querySelector('#df-8c28de17-fdfe-4793-9139-ed92befe424a');\n",
              "        const dataTable =\n",
              "          await google.colab.kernel.invokeFunction('convertToInteractive',\n",
              "                                                    [key], {});\n",
              "        if (!dataTable) return;\n",
              "\n",
              "        const docLinkHtml = 'Like what you see? Visit the ' +\n",
              "          '<a target=\"_blank\" href=https://colab.research.google.com/notebooks/data_table.ipynb>data table notebook</a>'\n",
              "          + ' to learn more about interactive tables.';\n",
              "        element.innerHTML = '';\n",
              "        dataTable['output_type'] = 'display_data';\n",
              "        await google.colab.output.renderOutput(dataTable, element);\n",
              "        const docLink = document.createElement('div');\n",
              "        docLink.innerHTML = docLinkHtml;\n",
              "        element.appendChild(docLink);\n",
              "      }\n",
              "    </script>\n",
              "  </div>\n",
              "\n",
              "\n",
              "<div id=\"df-59da8124-8057-4761-91fb-f88b9fdeec1b\">\n",
              "  <button class=\"colab-df-quickchart\" onclick=\"quickchart('df-59da8124-8057-4761-91fb-f88b9fdeec1b')\"\n",
              "            title=\"Suggest charts\"\n",
              "            style=\"display:none;\">\n",
              "\n",
              "<svg xmlns=\"http://www.w3.org/2000/svg\" height=\"24px\"viewBox=\"0 0 24 24\"\n",
              "     width=\"24px\">\n",
              "    <g>\n",
              "        <path d=\"M19 3H5c-1.1 0-2 .9-2 2v14c0 1.1.9 2 2 2h14c1.1 0 2-.9 2-2V5c0-1.1-.9-2-2-2zM9 17H7v-7h2v7zm4 0h-2V7h2v10zm4 0h-2v-4h2v4z\"/>\n",
              "    </g>\n",
              "</svg>\n",
              "  </button>\n",
              "\n",
              "<style>\n",
              "  .colab-df-quickchart {\n",
              "      --bg-color: #E8F0FE;\n",
              "      --fill-color: #1967D2;\n",
              "      --hover-bg-color: #E2EBFA;\n",
              "      --hover-fill-color: #174EA6;\n",
              "      --disabled-fill-color: #AAA;\n",
              "      --disabled-bg-color: #DDD;\n",
              "  }\n",
              "\n",
              "  [theme=dark] .colab-df-quickchart {\n",
              "      --bg-color: #3B4455;\n",
              "      --fill-color: #D2E3FC;\n",
              "      --hover-bg-color: #434B5C;\n",
              "      --hover-fill-color: #FFFFFF;\n",
              "      --disabled-bg-color: #3B4455;\n",
              "      --disabled-fill-color: #666;\n",
              "  }\n",
              "\n",
              "  .colab-df-quickchart {\n",
              "    background-color: var(--bg-color);\n",
              "    border: none;\n",
              "    border-radius: 50%;\n",
              "    cursor: pointer;\n",
              "    display: none;\n",
              "    fill: var(--fill-color);\n",
              "    height: 32px;\n",
              "    padding: 0;\n",
              "    width: 32px;\n",
              "  }\n",
              "\n",
              "  .colab-df-quickchart:hover {\n",
              "    background-color: var(--hover-bg-color);\n",
              "    box-shadow: 0 1px 2px rgba(60, 64, 67, 0.3), 0 1px 3px 1px rgba(60, 64, 67, 0.15);\n",
              "    fill: var(--button-hover-fill-color);\n",
              "  }\n",
              "\n",
              "  .colab-df-quickchart-complete:disabled,\n",
              "  .colab-df-quickchart-complete:disabled:hover {\n",
              "    background-color: var(--disabled-bg-color);\n",
              "    fill: var(--disabled-fill-color);\n",
              "    box-shadow: none;\n",
              "  }\n",
              "\n",
              "  .colab-df-spinner {\n",
              "    border: 2px solid var(--fill-color);\n",
              "    border-color: transparent;\n",
              "    border-bottom-color: var(--fill-color);\n",
              "    animation:\n",
              "      spin 1s steps(1) infinite;\n",
              "  }\n",
              "\n",
              "  @keyframes spin {\n",
              "    0% {\n",
              "      border-color: transparent;\n",
              "      border-bottom-color: var(--fill-color);\n",
              "      border-left-color: var(--fill-color);\n",
              "    }\n",
              "    20% {\n",
              "      border-color: transparent;\n",
              "      border-left-color: var(--fill-color);\n",
              "      border-top-color: var(--fill-color);\n",
              "    }\n",
              "    30% {\n",
              "      border-color: transparent;\n",
              "      border-left-color: var(--fill-color);\n",
              "      border-top-color: var(--fill-color);\n",
              "      border-right-color: var(--fill-color);\n",
              "    }\n",
              "    40% {\n",
              "      border-color: transparent;\n",
              "      border-right-color: var(--fill-color);\n",
              "      border-top-color: var(--fill-color);\n",
              "    }\n",
              "    60% {\n",
              "      border-color: transparent;\n",
              "      border-right-color: var(--fill-color);\n",
              "    }\n",
              "    80% {\n",
              "      border-color: transparent;\n",
              "      border-right-color: var(--fill-color);\n",
              "      border-bottom-color: var(--fill-color);\n",
              "    }\n",
              "    90% {\n",
              "      border-color: transparent;\n",
              "      border-bottom-color: var(--fill-color);\n",
              "    }\n",
              "  }\n",
              "</style>\n",
              "\n",
              "  <script>\n",
              "    async function quickchart(key) {\n",
              "      const quickchartButtonEl =\n",
              "        document.querySelector('#' + key + ' button');\n",
              "      quickchartButtonEl.disabled = true;  // To prevent multiple clicks.\n",
              "      quickchartButtonEl.classList.add('colab-df-spinner');\n",
              "      try {\n",
              "        const charts = await google.colab.kernel.invokeFunction(\n",
              "            'suggestCharts', [key], {});\n",
              "      } catch (error) {\n",
              "        console.error('Error during call to suggestCharts:', error);\n",
              "      }\n",
              "      quickchartButtonEl.classList.remove('colab-df-spinner');\n",
              "      quickchartButtonEl.classList.add('colab-df-quickchart-complete');\n",
              "    }\n",
              "    (() => {\n",
              "      let quickchartButtonEl =\n",
              "        document.querySelector('#df-59da8124-8057-4761-91fb-f88b9fdeec1b button');\n",
              "      quickchartButtonEl.style.display =\n",
              "        google.colab.kernel.accessAllowed ? 'block' : 'none';\n",
              "    })();\n",
              "  </script>\n",
              "</div>\n",
              "\n",
              "    </div>\n",
              "  </div>\n"
            ],
            "application/vnd.google.colaboratory.intrinsic+json": {
              "type": "dataframe",
              "summary": "{\n  \"name\": \"df_nordeste\",\n  \"rows\": 5,\n  \"fields\": [\n    {\n      \"column\": \"cidade\",\n      \"properties\": {\n        \"dtype\": \"string\",\n        \"num_unique_values\": 5,\n        \"samples\": [\n          \"Cajapi\\u00f3\",\n          \"Timbiras\",\n          \"Lamar\\u00e3o\"\n        ],\n        \"semantic_type\": \"\",\n        \"description\": \"\"\n      }\n    },\n    {\n      \"column\": \"pib_percapita\",\n      \"properties\": {\n        \"dtype\": \"number\",\n        \"std\": 183.9807333083921,\n        \"min\": 1929.9699707,\n        \"max\": 2368.15991211,\n        \"num_unique_values\": 5,\n        \"samples\": [\n          2203.83007812,\n          2368.15991211,\n          2327.14990234\n        ],\n        \"semantic_type\": \"\",\n        \"description\": \"\"\n      }\n    }\n  ]\n}"
            }
          },
          "metadata": {},
          "execution_count": 20
        }
      ]
    },
    {
      "cell_type": "markdown",
      "metadata": {
        "id": "GqwffgUmedmb"
      },
      "source": [
        " - Quais são as 15 cidades com maior PIB do do estado de São Paulo?"
      ]
    },
    {
      "cell_type": "code",
      "metadata": {
        "id": "tFKEn1gLedmc",
        "colab": {
          "base_uri": "https://localhost:8080/",
          "height": 519
        },
        "outputId": "3fa2448c-7eb5-4540-95b6-b145c2d9f3a2"
      },
      "source": [
        "# código para responder a pergunta\n",
        "\n",
        "df_saopaulo = (brasil_df.loc[brasil_df['estado'] == 'SAO PAULO'])\n",
        "df_saopaulo.nlargest(15, ['pib'])[['cidade', 'pib']]"
      ],
      "execution_count": 21,
      "outputs": [
        {
          "output_type": "execute_result",
          "data": {
            "text/plain": [
              "                     cidade          pib\n",
              "3278              São Paulo  389317152.0\n",
              "3230              Guarulhos   32473828.0\n",
              "3347               Campinas   31654720.0\n",
              "3112                 Osasco   31616452.0\n",
              "2815  São Bernardo do Campo   28935768.0\n",
              "3351                Barueri   26908070.0\n",
              "2772                 Santos   22546134.0\n",
              "2999    São José dos Campos   22018042.0\n",
              "3019                Jundiaí   16585137.0\n",
              "2821            Santo André   14709603.0\n",
              "2758         Ribeirão Preto   14688064.0\n",
              "3159               Sorocaba   14182597.0\n",
              "3043                Diadema    9969819.0\n",
              "3341             Piracicaba    9601211.0\n",
              "3004     São Caetano do Sul    8920202.0"
            ],
            "text/html": [
              "\n",
              "  <div id=\"df-251aae09-8b73-4fc6-b656-c9f545e00b70\" class=\"colab-df-container\">\n",
              "    <div>\n",
              "<style scoped>\n",
              "    .dataframe tbody tr th:only-of-type {\n",
              "        vertical-align: middle;\n",
              "    }\n",
              "\n",
              "    .dataframe tbody tr th {\n",
              "        vertical-align: top;\n",
              "    }\n",
              "\n",
              "    .dataframe thead th {\n",
              "        text-align: right;\n",
              "    }\n",
              "</style>\n",
              "<table border=\"1\" class=\"dataframe\">\n",
              "  <thead>\n",
              "    <tr style=\"text-align: right;\">\n",
              "      <th></th>\n",
              "      <th>cidade</th>\n",
              "      <th>pib</th>\n",
              "    </tr>\n",
              "  </thead>\n",
              "  <tbody>\n",
              "    <tr>\n",
              "      <th>3278</th>\n",
              "      <td>São Paulo</td>\n",
              "      <td>389317152.0</td>\n",
              "    </tr>\n",
              "    <tr>\n",
              "      <th>3230</th>\n",
              "      <td>Guarulhos</td>\n",
              "      <td>32473828.0</td>\n",
              "    </tr>\n",
              "    <tr>\n",
              "      <th>3347</th>\n",
              "      <td>Campinas</td>\n",
              "      <td>31654720.0</td>\n",
              "    </tr>\n",
              "    <tr>\n",
              "      <th>3112</th>\n",
              "      <td>Osasco</td>\n",
              "      <td>31616452.0</td>\n",
              "    </tr>\n",
              "    <tr>\n",
              "      <th>2815</th>\n",
              "      <td>São Bernardo do Campo</td>\n",
              "      <td>28935768.0</td>\n",
              "    </tr>\n",
              "    <tr>\n",
              "      <th>3351</th>\n",
              "      <td>Barueri</td>\n",
              "      <td>26908070.0</td>\n",
              "    </tr>\n",
              "    <tr>\n",
              "      <th>2772</th>\n",
              "      <td>Santos</td>\n",
              "      <td>22546134.0</td>\n",
              "    </tr>\n",
              "    <tr>\n",
              "      <th>2999</th>\n",
              "      <td>São José dos Campos</td>\n",
              "      <td>22018042.0</td>\n",
              "    </tr>\n",
              "    <tr>\n",
              "      <th>3019</th>\n",
              "      <td>Jundiaí</td>\n",
              "      <td>16585137.0</td>\n",
              "    </tr>\n",
              "    <tr>\n",
              "      <th>2821</th>\n",
              "      <td>Santo André</td>\n",
              "      <td>14709603.0</td>\n",
              "    </tr>\n",
              "    <tr>\n",
              "      <th>2758</th>\n",
              "      <td>Ribeirão Preto</td>\n",
              "      <td>14688064.0</td>\n",
              "    </tr>\n",
              "    <tr>\n",
              "      <th>3159</th>\n",
              "      <td>Sorocaba</td>\n",
              "      <td>14182597.0</td>\n",
              "    </tr>\n",
              "    <tr>\n",
              "      <th>3043</th>\n",
              "      <td>Diadema</td>\n",
              "      <td>9969819.0</td>\n",
              "    </tr>\n",
              "    <tr>\n",
              "      <th>3341</th>\n",
              "      <td>Piracicaba</td>\n",
              "      <td>9601211.0</td>\n",
              "    </tr>\n",
              "    <tr>\n",
              "      <th>3004</th>\n",
              "      <td>São Caetano do Sul</td>\n",
              "      <td>8920202.0</td>\n",
              "    </tr>\n",
              "  </tbody>\n",
              "</table>\n",
              "</div>\n",
              "    <div class=\"colab-df-buttons\">\n",
              "\n",
              "  <div class=\"colab-df-container\">\n",
              "    <button class=\"colab-df-convert\" onclick=\"convertToInteractive('df-251aae09-8b73-4fc6-b656-c9f545e00b70')\"\n",
              "            title=\"Convert this dataframe to an interactive table.\"\n",
              "            style=\"display:none;\">\n",
              "\n",
              "  <svg xmlns=\"http://www.w3.org/2000/svg\" height=\"24px\" viewBox=\"0 -960 960 960\">\n",
              "    <path d=\"M120-120v-720h720v720H120Zm60-500h600v-160H180v160Zm220 220h160v-160H400v160Zm0 220h160v-160H400v160ZM180-400h160v-160H180v160Zm440 0h160v-160H620v160ZM180-180h160v-160H180v160Zm440 0h160v-160H620v160Z\"/>\n",
              "  </svg>\n",
              "    </button>\n",
              "\n",
              "  <style>\n",
              "    .colab-df-container {\n",
              "      display:flex;\n",
              "      gap: 12px;\n",
              "    }\n",
              "\n",
              "    .colab-df-convert {\n",
              "      background-color: #E8F0FE;\n",
              "      border: none;\n",
              "      border-radius: 50%;\n",
              "      cursor: pointer;\n",
              "      display: none;\n",
              "      fill: #1967D2;\n",
              "      height: 32px;\n",
              "      padding: 0 0 0 0;\n",
              "      width: 32px;\n",
              "    }\n",
              "\n",
              "    .colab-df-convert:hover {\n",
              "      background-color: #E2EBFA;\n",
              "      box-shadow: 0px 1px 2px rgba(60, 64, 67, 0.3), 0px 1px 3px 1px rgba(60, 64, 67, 0.15);\n",
              "      fill: #174EA6;\n",
              "    }\n",
              "\n",
              "    .colab-df-buttons div {\n",
              "      margin-bottom: 4px;\n",
              "    }\n",
              "\n",
              "    [theme=dark] .colab-df-convert {\n",
              "      background-color: #3B4455;\n",
              "      fill: #D2E3FC;\n",
              "    }\n",
              "\n",
              "    [theme=dark] .colab-df-convert:hover {\n",
              "      background-color: #434B5C;\n",
              "      box-shadow: 0px 1px 3px 1px rgba(0, 0, 0, 0.15);\n",
              "      filter: drop-shadow(0px 1px 2px rgba(0, 0, 0, 0.3));\n",
              "      fill: #FFFFFF;\n",
              "    }\n",
              "  </style>\n",
              "\n",
              "    <script>\n",
              "      const buttonEl =\n",
              "        document.querySelector('#df-251aae09-8b73-4fc6-b656-c9f545e00b70 button.colab-df-convert');\n",
              "      buttonEl.style.display =\n",
              "        google.colab.kernel.accessAllowed ? 'block' : 'none';\n",
              "\n",
              "      async function convertToInteractive(key) {\n",
              "        const element = document.querySelector('#df-251aae09-8b73-4fc6-b656-c9f545e00b70');\n",
              "        const dataTable =\n",
              "          await google.colab.kernel.invokeFunction('convertToInteractive',\n",
              "                                                    [key], {});\n",
              "        if (!dataTable) return;\n",
              "\n",
              "        const docLinkHtml = 'Like what you see? Visit the ' +\n",
              "          '<a target=\"_blank\" href=https://colab.research.google.com/notebooks/data_table.ipynb>data table notebook</a>'\n",
              "          + ' to learn more about interactive tables.';\n",
              "        element.innerHTML = '';\n",
              "        dataTable['output_type'] = 'display_data';\n",
              "        await google.colab.output.renderOutput(dataTable, element);\n",
              "        const docLink = document.createElement('div');\n",
              "        docLink.innerHTML = docLinkHtml;\n",
              "        element.appendChild(docLink);\n",
              "      }\n",
              "    </script>\n",
              "  </div>\n",
              "\n",
              "\n",
              "<div id=\"df-2a626528-600d-4fcf-aa7d-7782d732f4c7\">\n",
              "  <button class=\"colab-df-quickchart\" onclick=\"quickchart('df-2a626528-600d-4fcf-aa7d-7782d732f4c7')\"\n",
              "            title=\"Suggest charts\"\n",
              "            style=\"display:none;\">\n",
              "\n",
              "<svg xmlns=\"http://www.w3.org/2000/svg\" height=\"24px\"viewBox=\"0 0 24 24\"\n",
              "     width=\"24px\">\n",
              "    <g>\n",
              "        <path d=\"M19 3H5c-1.1 0-2 .9-2 2v14c0 1.1.9 2 2 2h14c1.1 0 2-.9 2-2V5c0-1.1-.9-2-2-2zM9 17H7v-7h2v7zm4 0h-2V7h2v10zm4 0h-2v-4h2v4z\"/>\n",
              "    </g>\n",
              "</svg>\n",
              "  </button>\n",
              "\n",
              "<style>\n",
              "  .colab-df-quickchart {\n",
              "      --bg-color: #E8F0FE;\n",
              "      --fill-color: #1967D2;\n",
              "      --hover-bg-color: #E2EBFA;\n",
              "      --hover-fill-color: #174EA6;\n",
              "      --disabled-fill-color: #AAA;\n",
              "      --disabled-bg-color: #DDD;\n",
              "  }\n",
              "\n",
              "  [theme=dark] .colab-df-quickchart {\n",
              "      --bg-color: #3B4455;\n",
              "      --fill-color: #D2E3FC;\n",
              "      --hover-bg-color: #434B5C;\n",
              "      --hover-fill-color: #FFFFFF;\n",
              "      --disabled-bg-color: #3B4455;\n",
              "      --disabled-fill-color: #666;\n",
              "  }\n",
              "\n",
              "  .colab-df-quickchart {\n",
              "    background-color: var(--bg-color);\n",
              "    border: none;\n",
              "    border-radius: 50%;\n",
              "    cursor: pointer;\n",
              "    display: none;\n",
              "    fill: var(--fill-color);\n",
              "    height: 32px;\n",
              "    padding: 0;\n",
              "    width: 32px;\n",
              "  }\n",
              "\n",
              "  .colab-df-quickchart:hover {\n",
              "    background-color: var(--hover-bg-color);\n",
              "    box-shadow: 0 1px 2px rgba(60, 64, 67, 0.3), 0 1px 3px 1px rgba(60, 64, 67, 0.15);\n",
              "    fill: var(--button-hover-fill-color);\n",
              "  }\n",
              "\n",
              "  .colab-df-quickchart-complete:disabled,\n",
              "  .colab-df-quickchart-complete:disabled:hover {\n",
              "    background-color: var(--disabled-bg-color);\n",
              "    fill: var(--disabled-fill-color);\n",
              "    box-shadow: none;\n",
              "  }\n",
              "\n",
              "  .colab-df-spinner {\n",
              "    border: 2px solid var(--fill-color);\n",
              "    border-color: transparent;\n",
              "    border-bottom-color: var(--fill-color);\n",
              "    animation:\n",
              "      spin 1s steps(1) infinite;\n",
              "  }\n",
              "\n",
              "  @keyframes spin {\n",
              "    0% {\n",
              "      border-color: transparent;\n",
              "      border-bottom-color: var(--fill-color);\n",
              "      border-left-color: var(--fill-color);\n",
              "    }\n",
              "    20% {\n",
              "      border-color: transparent;\n",
              "      border-left-color: var(--fill-color);\n",
              "      border-top-color: var(--fill-color);\n",
              "    }\n",
              "    30% {\n",
              "      border-color: transparent;\n",
              "      border-left-color: var(--fill-color);\n",
              "      border-top-color: var(--fill-color);\n",
              "      border-right-color: var(--fill-color);\n",
              "    }\n",
              "    40% {\n",
              "      border-color: transparent;\n",
              "      border-right-color: var(--fill-color);\n",
              "      border-top-color: var(--fill-color);\n",
              "    }\n",
              "    60% {\n",
              "      border-color: transparent;\n",
              "      border-right-color: var(--fill-color);\n",
              "    }\n",
              "    80% {\n",
              "      border-color: transparent;\n",
              "      border-right-color: var(--fill-color);\n",
              "      border-bottom-color: var(--fill-color);\n",
              "    }\n",
              "    90% {\n",
              "      border-color: transparent;\n",
              "      border-bottom-color: var(--fill-color);\n",
              "    }\n",
              "  }\n",
              "</style>\n",
              "\n",
              "  <script>\n",
              "    async function quickchart(key) {\n",
              "      const quickchartButtonEl =\n",
              "        document.querySelector('#' + key + ' button');\n",
              "      quickchartButtonEl.disabled = true;  // To prevent multiple clicks.\n",
              "      quickchartButtonEl.classList.add('colab-df-spinner');\n",
              "      try {\n",
              "        const charts = await google.colab.kernel.invokeFunction(\n",
              "            'suggestCharts', [key], {});\n",
              "      } catch (error) {\n",
              "        console.error('Error during call to suggestCharts:', error);\n",
              "      }\n",
              "      quickchartButtonEl.classList.remove('colab-df-spinner');\n",
              "      quickchartButtonEl.classList.add('colab-df-quickchart-complete');\n",
              "    }\n",
              "    (() => {\n",
              "      let quickchartButtonEl =\n",
              "        document.querySelector('#df-2a626528-600d-4fcf-aa7d-7782d732f4c7 button');\n",
              "      quickchartButtonEl.style.display =\n",
              "        google.colab.kernel.accessAllowed ? 'block' : 'none';\n",
              "    })();\n",
              "  </script>\n",
              "</div>\n",
              "\n",
              "    </div>\n",
              "  </div>\n"
            ],
            "application/vnd.google.colaboratory.intrinsic+json": {
              "type": "dataframe",
              "summary": "{\n  \"name\": \"df_saopaulo\",\n  \"rows\": 15,\n  \"fields\": [\n    {\n      \"column\": \"cidade\",\n      \"properties\": {\n        \"dtype\": \"string\",\n        \"num_unique_values\": 15,\n        \"samples\": [\n          \"Santo Andr\\u00e9\",\n          \"Sorocaba\",\n          \"S\\u00e3o Paulo\"\n        ],\n        \"semantic_type\": \"\",\n        \"description\": \"\"\n      }\n    },\n    {\n      \"column\": \"pib\",\n      \"properties\": {\n        \"dtype\": \"number\",\n        \"std\": 95641246.77713425,\n        \"min\": 8920202.0,\n        \"max\": 389317152.0,\n        \"num_unique_values\": 15,\n        \"samples\": [\n          14709603.0,\n          14182597.0,\n          389317152.0\n        ],\n        \"semantic_type\": \"\",\n        \"description\": \"\"\n      }\n    }\n  ]\n}"
            }
          },
          "metadata": {},
          "execution_count": 21
        }
      ]
    },
    {
      "cell_type": "markdown",
      "metadata": {
        "id": "Wg_la1wOewoB"
      },
      "source": [
        " - Qual é o PIB do estado de Santa Catarina?"
      ]
    },
    {
      "cell_type": "code",
      "metadata": {
        "id": "LwGqow5_ewoB",
        "colab": {
          "base_uri": "https://localhost:8080/"
        },
        "outputId": "705b0904-2902-42f6-c09d-efb56d4a20e7"
      },
      "source": [
        "# código para responder a pergunta\n",
        "\n",
        "df_sc = (brasil_df.loc[brasil_df['estado'] == 'SANTA CATARINA'])\n",
        "soma = df_sc['pib'].sum()\n",
        "print(f'O PIB de Santa Catarina é igual a {soma}')"
      ],
      "execution_count": 22,
      "outputs": [
        {
          "output_type": "stream",
          "name": "stdout",
          "text": [
            "O PIB de Santa Catarina é igual a 129806256.75195317\n"
          ]
        }
      ]
    },
    {
      "cell_type": "markdown",
      "metadata": {
        "id": "Yaw2gDukfApr"
      },
      "source": [
        " - Qual é o população da região sul?"
      ]
    },
    {
      "cell_type": "code",
      "metadata": {
        "id": "enEkNjFQfAps",
        "colab": {
          "base_uri": "https://localhost:8080/"
        },
        "outputId": "39cdc41c-82f6-49a3-ceef-0347fef39e78"
      },
      "source": [
        "# código para responder a pergunta\n",
        "df_populacaosul = (brasil_df.loc[brasil_df['regiao'] == 'SUL'])\n",
        "soma_populacaosul = df_populacaosul['populacao'].sum()\n",
        "print(f'A população da região Sul é de {soma_populacaosul} habitantes')"
      ],
      "execution_count": 24,
      "outputs": [
        {
          "output_type": "stream",
          "name": "stdout",
          "text": [
            "A população da região Sul é de 27719118 habitantes\n"
          ]
        }
      ]
    },
    {
      "cell_type": "markdown",
      "metadata": {
        "id": "9qOaKRS9fFu8"
      },
      "source": [
        " - Qual é o PIB per capito médio das cidades do Mato Grosso do Sul?"
      ]
    },
    {
      "cell_type": "code",
      "metadata": {
        "id": "gX8DVSfFfFu9",
        "colab": {
          "base_uri": "https://localhost:8080/"
        },
        "outputId": "9e092171-b601-4032-b045-e5b57da5f99b"
      },
      "source": [
        "# código para responder a pergunta\n",
        "\n",
        "ms_df = brasil_df[brasil_df['estado'] == 'MATO GROSSO DO SUL']\n",
        "pib_percapita_medio = ms_df['pib_percapita'].mean()\n",
        "\n",
        "print(f\"O PIB per capita médio das cidades do Mato Grosso do Sul é: {pib_percapita_medio}\")"
      ],
      "execution_count": 25,
      "outputs": [
        {
          "output_type": "stream",
          "name": "stdout",
          "text": [
            "O PIB per capita médio das cidades do Mato Grosso do Sul é: 14458.896859975644\n"
          ]
        }
      ]
    },
    {
      "cell_type": "markdown",
      "metadata": {
        "id": "lvf-VqaffS2D"
      },
      "source": [
        " - Qual é a população do Brasil?"
      ]
    },
    {
      "cell_type": "code",
      "metadata": {
        "id": "_nBsY6EcfS2E",
        "colab": {
          "base_uri": "https://localhost:8080/"
        },
        "outputId": "16dc1b74-bf3a-4695-9bc4-a4c5bc1df67d"
      },
      "source": [
        "# código para responder a pergunta\n",
        "\n",
        "df_popbrasil = brasil_df['populacao'].sum()\n",
        "print(f'A população do Brasil é: {df_popbrasil}')"
      ],
      "execution_count": 26,
      "outputs": [
        {
          "output_type": "stream",
          "name": "stdout",
          "text": [
            "A população do Brasil é: 191501418\n"
          ]
        }
      ]
    },
    {
      "cell_type": "markdown",
      "metadata": {
        "id": "hnTSARXpipkP"
      },
      "source": [
        "### **2.3. Visualização**"
      ]
    },
    {
      "cell_type": "markdown",
      "metadata": {
        "id": "7coMkY8xixFO"
      },
      "source": [
        "Utilize o dataframe `brasil_df` para gerar as seguintes visualizações."
      ]
    },
    {
      "cell_type": "markdown",
      "metadata": {
        "id": "SgvPvh4Vjctx"
      },
      "source": [
        " - Gere um gráfico de barras com as 10 cidades menos populosas do Brasil."
      ]
    },
    {
      "cell_type": "code",
      "metadata": {
        "id": "V8eM0uEUjcty",
        "colab": {
          "base_uri": "https://localhost:8080/",
          "height": 915
        },
        "outputId": "b68767f3-3927-48f6-bb20-96f25a7456f9"
      },
      "source": [
        "# código para gerar a visualização\n",
        "\n",
        "import seaborn as sns\n",
        "import matplotlib.pyplot as plt\n",
        "\n",
        "menores_cidades = brasil_df.nsmallest(10, 'populacao')[['cidade', 'populacao']]\n",
        "\n",
        "plt.figure(figsize=(12, 8))\n",
        "sns.barplot(x='cidade', y='populacao', data=menores_cidades, palette='pastel')\n",
        "plt.title('As 10 Cidades Menos Populosas do Brasil')\n",
        "plt.xlabel('Cidade')\n",
        "plt.ylabel('População')\n",
        "for index, value in enumerate(menores_cidades['populacao']):\n",
        "    plt.text(index, value + 0.02 * value, f'{value:,.0f}', ha='center')\n",
        "plt.xticks(rotation=45, ha='right')\n",
        "plt.show()"
      ],
      "execution_count": 27,
      "outputs": [
        {
          "output_type": "stream",
          "name": "stderr",
          "text": [
            "<ipython-input-27-d63905cd1904>:9: FutureWarning: \n",
            "\n",
            "Passing `palette` without assigning `hue` is deprecated and will be removed in v0.14.0. Assign the `x` variable to `hue` and set `legend=False` for the same effect.\n",
            "\n",
            "  sns.barplot(x='cidade', y='populacao', data=menores_cidades, palette='pastel')\n"
          ]
        },
        {
          "output_type": "display_data",
          "data": {
            "text/plain": [
              "<Figure size 1200x800 with 1 Axes>"
            ],
            "image/png": "[encoded data removed]"
          },
          "metadata": {}
        }
      ]
    },
    {
      "cell_type": "markdown",
      "metadata": {
        "id": "gsa3SrTjjrGV"
      },
      "source": [
        " - Gere um gráfico de pizza com a proporção da população do Brasil por região."
      ]
    },
    {
      "cell_type": "code",
      "metadata": {
        "id": "1dvqIAEHjrGV",
        "colab": {
          "base_uri": "https://localhost:8080/",
          "height": 521
        },
        "outputId": "b3c8f57e-3b0a-4f9a-833e-da0745ff421f"
      },
      "source": [
        "# código para gerar a visualização\n",
        "\n",
        "df_agrupado = brasil_df[['regiao', 'populacao']].groupby('regiao').agg('sum')\n",
        "cores = ['#ffe181', '#eee9e5', '#fad3b2', '#ffba7f', '#ff9c97']\n",
        "\n",
        "plt.figure(figsize=(10, 6))\n",
        "plt.pie(df_agrupado['populacao'], labels=df_agrupado.index, autopct='%1.1f%%', startangle=120, colors=cores)\n",
        "plt.title('Distribuição da População por Região no Brasil')\n",
        "plt.legend(title='Região', loc='upper left', bbox_to_anchor=(1, 1))\n",
        "plt.show()"
      ],
      "execution_count": 28,
      "outputs": [
        {
          "output_type": "display_data",
          "data": {
            "text/plain": [
              "<Figure size 1000x600 with 1 Axes>"
            ],
            "image/png": "[encoded data removed]"
          },
          "metadata": {}
        }
      ]
    }
  ]
}